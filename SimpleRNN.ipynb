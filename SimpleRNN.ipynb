{
  "nbformat": 4,
  "nbformat_minor": 0,
  "metadata": {
    "colab": {
      "provenance": [],
      "gpuType": "T4",
      "authorship_tag": "ABX9TyNYKD0PxcoIOU7r4FJ6tHv5",
      "include_colab_link": true
    },
    "kernelspec": {
      "name": "python3",
      "display_name": "Python 3"
    },
    "language_info": {
      "name": "python"
    },
    "accelerator": "GPU"
  },
  "cells": [
    {
      "cell_type": "markdown",
      "metadata": {
        "id": "view-in-github",
        "colab_type": "text"
      },
      "source": [
        "<a href=\"https://colab.research.google.com/github/Hemant8120/SimpleRNN/blob/main/SimpleRNN.ipynb\" target=\"_parent\"><img src=\"https://colab.research.google.com/assets/colab-badge.svg\" alt=\"Open In Colab\"/></a>"
      ]
    },
    {
      "cell_type": "markdown",
      "source": [
        "# Listing Installed Packages"
      ],
      "metadata": {
        "id": "pZF327Ub66ae"
      }
    },
    {
      "cell_type": "code",
      "execution_count": 1,
      "metadata": {
        "colab": {
          "base_uri": "https://localhost:8080/"
        },
        "id": "G8N7ggi85yk8",
        "outputId": "7ba7f2fe-bd05-401e-9f9f-dd3f00f0cddf"
      },
      "outputs": [
        {
          "output_type": "stream",
          "name": "stdout",
          "text": [
            "Package                          Version\n",
            "-------------------------------- ---------------------\n",
            "absl-py                          1.4.0\n",
            "aiohttp                          3.8.6\n",
            "aiosignal                        1.3.1\n",
            "alabaster                        0.7.13\n",
            "albumentations                   1.3.1\n",
            "altair                           4.2.2\n",
            "anyio                            3.7.1\n",
            "appdirs                          1.4.4\n",
            "argon2-cffi                      23.1.0\n",
            "argon2-cffi-bindings             21.2.0\n",
            "array-record                     0.5.0\n",
            "arviz                            0.15.1\n",
            "astropy                          5.3.4\n",
            "astunparse                       1.6.3\n",
            "async-timeout                    4.0.3\n",
            "atpublic                         4.0\n",
            "attrs                            23.1.0\n",
            "audioread                        3.0.1\n",
            "autograd                         1.6.2\n",
            "Babel                            2.13.1\n",
            "backcall                         0.2.0\n",
            "beautifulsoup4                   4.11.2\n",
            "bidict                           0.22.1\n",
            "bigframes                        0.13.0\n",
            "bleach                           6.1.0\n",
            "blinker                          1.4\n",
            "blis                             0.7.11\n",
            "blosc2                           2.0.0\n",
            "bokeh                            3.3.1\n",
            "bqplot                           0.12.42\n",
            "branca                           0.7.0\n",
            "build                            1.0.3\n",
            "CacheControl                     0.13.1\n",
            "cachetools                       5.3.2\n",
            "catalogue                        2.0.10\n",
            "certifi                          2023.7.22\n",
            "cffi                             1.16.0\n",
            "chardet                          5.2.0\n",
            "charset-normalizer               3.3.2\n",
            "chex                             0.1.7\n",
            "click                            8.1.7\n",
            "click-plugins                    1.1.1\n",
            "cligj                            0.7.2\n",
            "cloudpickle                      2.2.1\n",
            "cmake                            3.27.7\n",
            "cmdstanpy                        1.2.0\n",
            "colorcet                         3.0.1\n",
            "colorlover                       0.3.0\n",
            "colour                           0.1.5\n",
            "community                        1.0.0b1\n",
            "confection                       0.1.3\n",
            "cons                             0.4.6\n",
            "contextlib2                      21.6.0\n",
            "contourpy                        1.2.0\n",
            "cryptography                     41.0.5\n",
            "cufflinks                        0.17.3\n",
            "cupy-cuda11x                     11.0.0\n",
            "cvxopt                           1.3.2\n",
            "cvxpy                            1.3.2\n",
            "cycler                           0.12.1\n",
            "cymem                            2.0.8\n",
            "Cython                           3.0.5\n",
            "dask                             2023.8.1\n",
            "datascience                      0.17.6\n",
            "db-dtypes                        1.1.1\n",
            "dbus-python                      1.2.18\n",
            "debugpy                          1.6.6\n",
            "decorator                        4.4.2\n",
            "defusedxml                       0.7.1\n",
            "diskcache                        5.6.3\n",
            "distributed                      2023.8.1\n",
            "distro                           1.7.0\n",
            "dlib                             19.24.2\n",
            "dm-tree                          0.1.8\n",
            "docutils                         0.18.1\n",
            "dopamine-rl                      4.0.6\n",
            "duckdb                           0.9.2\n",
            "earthengine-api                  0.1.379\n",
            "easydict                         1.11\n",
            "ecos                             2.0.12\n",
            "editdistance                     0.6.2\n",
            "eerepr                           0.0.4\n",
            "en-core-web-sm                   3.6.0\n",
            "entrypoints                      0.4\n",
            "et-xmlfile                       1.1.0\n",
            "etils                            1.5.2\n",
            "etuples                          0.3.9\n",
            "exceptiongroup                   1.1.3\n",
            "fastai                           2.7.13\n",
            "fastcore                         1.5.29\n",
            "fastdownload                     0.0.7\n",
            "fastjsonschema                   2.19.0\n",
            "fastprogress                     1.0.3\n",
            "fastrlock                        0.8.2\n",
            "filelock                         3.13.1\n",
            "fiona                            1.9.5\n",
            "firebase-admin                   5.3.0\n",
            "Flask                            2.2.5\n",
            "flatbuffers                      23.5.26\n",
            "flax                             0.7.5\n",
            "folium                           0.14.0\n",
            "fonttools                        4.44.3\n",
            "frozendict                       2.3.8\n",
            "frozenlist                       1.4.0\n",
            "fsspec                           2023.6.0\n",
            "future                           0.18.3\n",
            "gast                             0.5.4\n",
            "gcsfs                            2023.6.0\n",
            "GDAL                             3.4.3\n",
            "gdown                            4.6.6\n",
            "geemap                           0.28.2\n",
            "gensim                           4.3.2\n",
            "geocoder                         1.38.1\n",
            "geographiclib                    2.0\n",
            "geopandas                        0.13.2\n",
            "geopy                            2.3.0\n",
            "gin-config                       0.5.0\n",
            "glob2                            0.7\n",
            "google                           2.0.3\n",
            "google-ai-generativelanguage     0.3.3\n",
            "google-api-core                  2.11.1\n",
            "google-api-python-client         2.84.0\n",
            "google-auth                      2.17.3\n",
            "google-auth-httplib2             0.1.1\n",
            "google-auth-oauthlib             1.0.0\n",
            "google-cloud-bigquery            3.12.0\n",
            "google-cloud-bigquery-connection 1.12.1\n",
            "google-cloud-bigquery-storage    2.22.0\n",
            "google-cloud-core                2.3.3\n",
            "google-cloud-datastore           2.15.2\n",
            "google-cloud-firestore           2.11.1\n",
            "google-cloud-functions           1.13.3\n",
            "google-cloud-iam                 2.12.2\n",
            "google-cloud-language            2.9.1\n",
            "google-cloud-resource-manager    1.10.4\n",
            "google-cloud-storage             2.8.0\n",
            "google-cloud-translate           3.11.3\n",
            "google-colab                     1.0.0\n",
            "google-crc32c                    1.5.0\n",
            "google-generativeai              0.2.2\n",
            "google-pasta                     0.2.0\n",
            "google-resumable-media           2.6.0\n",
            "googleapis-common-protos         1.61.0\n",
            "googledrivedownloader            0.4\n",
            "graphviz                         0.20.1\n",
            "greenlet                         3.0.1\n",
            "grpc-google-iam-v1               0.12.7\n",
            "grpcio                           1.59.2\n",
            "grpcio-status                    1.48.2\n",
            "gspread                          3.4.2\n",
            "gspread-dataframe                3.3.1\n",
            "gym                              0.25.2\n",
            "gym-notices                      0.0.8\n",
            "h5netcdf                         1.3.0\n",
            "h5py                             3.9.0\n",
            "holidays                         0.36\n",
            "holoviews                        1.17.1\n",
            "html5lib                         1.1\n",
            "httpimport                       1.3.1\n",
            "httplib2                         0.22.0\n",
            "huggingface-hub                  0.19.4\n",
            "humanize                         4.7.0\n",
            "hyperopt                         0.2.7\n",
            "ibis-framework                   6.2.0\n",
            "idna                             3.4\n",
            "imageio                          2.31.6\n",
            "imageio-ffmpeg                   0.4.9\n",
            "imagesize                        1.4.1\n",
            "imbalanced-learn                 0.10.1\n",
            "imgaug                           0.4.0\n",
            "importlib-metadata               6.8.0\n",
            "importlib-resources              6.1.1\n",
            "imutils                          0.5.4\n",
            "inflect                          7.0.0\n",
            "iniconfig                        2.0.0\n",
            "install                          1.3.5\n",
            "intel-openmp                     2023.2.0\n",
            "ipyevents                        2.0.2\n",
            "ipyfilechooser                   0.6.0\n",
            "ipykernel                        5.5.6\n",
            "ipyleaflet                       0.17.4\n",
            "ipython                          7.34.0\n",
            "ipython-genutils                 0.2.0\n",
            "ipython-sql                      0.5.0\n",
            "ipytree                          0.2.2\n",
            "ipywidgets                       7.7.1\n",
            "itsdangerous                     2.1.2\n",
            "jax                              0.4.20\n",
            "jaxlib                           0.4.20+cuda11.cudnn86\n",
            "jeepney                          0.7.1\n",
            "jieba                            0.42.1\n",
            "Jinja2                           3.1.2\n",
            "joblib                           1.3.2\n",
            "jsonpickle                       3.0.2\n",
            "jsonschema                       4.19.2\n",
            "jsonschema-specifications        2023.11.1\n",
            "jupyter-client                   6.1.12\n",
            "jupyter-console                  6.1.0\n",
            "jupyter_core                     5.5.0\n",
            "jupyter-server                   1.24.0\n",
            "jupyterlab-pygments              0.2.2\n",
            "jupyterlab-widgets               3.0.9\n",
            "kaggle                           1.5.16\n",
            "keras                            2.14.0\n",
            "keyring                          23.5.0\n",
            "kiwisolver                       1.4.5\n",
            "langcodes                        3.3.0\n",
            "launchpadlib                     1.10.16\n",
            "lazr.restfulclient               0.14.4\n",
            "lazr.uri                         1.0.6\n",
            "lazy_loader                      0.3\n",
            "libclang                         16.0.6\n",
            "librosa                          0.10.1\n",
            "lida                             0.0.10\n",
            "lightgbm                         4.1.0\n",
            "linkify-it-py                    2.0.2\n",
            "llmx                             0.0.15a0\n",
            "llvmlite                         0.41.1\n",
            "locket                           1.0.0\n",
            "logical-unification              0.4.6\n",
            "lxml                             4.9.3\n",
            "malloy                           2023.1064\n",
            "Markdown                         3.5.1\n",
            "markdown-it-py                   3.0.0\n",
            "MarkupSafe                       2.1.3\n",
            "matplotlib                       3.7.1\n",
            "matplotlib-inline                0.1.6\n",
            "matplotlib-venn                  0.11.9\n",
            "mdit-py-plugins                  0.4.0\n",
            "mdurl                            0.1.2\n",
            "miniKanren                       1.0.3\n",
            "missingno                        0.5.2\n",
            "mistune                          0.8.4\n",
            "mizani                           0.9.3\n",
            "mkl                              2023.2.0\n",
            "ml-dtypes                        0.2.0\n",
            "mlxtend                          0.22.0\n",
            "more-itertools                   10.1.0\n",
            "moviepy                          1.0.3\n",
            "mpmath                           1.3.0\n",
            "msgpack                          1.0.7\n",
            "multidict                        6.0.4\n",
            "multipledispatch                 1.0.0\n",
            "multitasking                     0.0.11\n",
            "murmurhash                       1.0.10\n",
            "music21                          9.1.0\n",
            "natsort                          8.4.0\n",
            "nbclassic                        1.0.0\n",
            "nbclient                         0.9.0\n",
            "nbconvert                        6.5.4\n",
            "nbformat                         5.9.2\n",
            "nest-asyncio                     1.5.8\n",
            "networkx                         3.2.1\n",
            "nibabel                          4.0.2\n",
            "nltk                             3.8.1\n",
            "notebook                         6.5.5\n",
            "notebook_shim                    0.2.3\n",
            "numba                            0.58.1\n",
            "numexpr                          2.8.7\n",
            "numpy                            1.23.5\n",
            "oauth2client                     4.1.3\n",
            "oauthlib                         3.2.2\n",
            "opencv-contrib-python            4.8.0.76\n",
            "opencv-python                    4.8.0.76\n",
            "opencv-python-headless           4.8.1.78\n",
            "openpyxl                         3.1.2\n",
            "opt-einsum                       3.3.0\n",
            "optax                            0.1.7\n",
            "orbax-checkpoint                 0.4.2\n",
            "osqp                             0.6.2.post8\n",
            "packaging                        23.2\n",
            "pandas                           1.5.3\n",
            "pandas-datareader                0.10.0\n",
            "pandas-gbq                       0.17.9\n",
            "pandas-stubs                     1.5.3.230304\n",
            "pandocfilters                    1.5.0\n",
            "panel                            1.3.1\n",
            "param                            2.0.1\n",
            "parso                            0.8.3\n",
            "parsy                            2.1\n",
            "partd                            1.4.1\n",
            "pathlib                          1.0.1\n",
            "pathy                            0.10.3\n",
            "patsy                            0.5.3\n",
            "peewee                           3.17.0\n",
            "pexpect                          4.8.0\n",
            "pickleshare                      0.7.5\n",
            "Pillow                           9.4.0\n",
            "pip                              23.1.2\n",
            "pip-tools                        6.13.0\n",
            "platformdirs                     4.0.0\n",
            "plotly                           5.15.0\n",
            "plotnine                         0.12.4\n",
            "pluggy                           1.3.0\n",
            "polars                           0.17.3\n",
            "pooch                            1.8.0\n",
            "portpicker                       1.5.2\n",
            "prefetch-generator               1.0.3\n",
            "preshed                          3.0.9\n",
            "prettytable                      3.9.0\n",
            "proglog                          0.1.10\n",
            "progressbar2                     4.2.0\n",
            "prometheus-client                0.18.0\n",
            "promise                          2.3\n",
            "prompt-toolkit                   3.0.41\n",
            "prophet                          1.1.5\n",
            "proto-plus                       1.22.3\n",
            "protobuf                         3.20.3\n",
            "psutil                           5.9.5\n",
            "psycopg2                         2.9.9\n",
            "ptyprocess                       0.7.0\n",
            "py-cpuinfo                       9.0.0\n",
            "py4j                             0.10.9.7\n",
            "pyarrow                          9.0.0\n",
            "pyasn1                           0.5.0\n",
            "pyasn1-modules                   0.3.0\n",
            "pycocotools                      2.0.7\n",
            "pycparser                        2.21\n",
            "pyct                             0.5.0\n",
            "pydantic                         1.10.13\n",
            "pydata-google-auth               1.8.2\n",
            "pydot                            1.4.2\n",
            "pydot-ng                         2.0.0\n",
            "pydotplus                        2.0.2\n",
            "PyDrive                          1.3.1\n",
            "PyDrive2                         1.6.3\n",
            "pyerfa                           2.0.1.1\n",
            "pygame                           2.5.2\n",
            "Pygments                         2.16.1\n",
            "PyGObject                        3.42.1\n",
            "PyJWT                            2.3.0\n",
            "pymc                             5.7.2\n",
            "pymystem3                        0.2.0\n",
            "PyOpenGL                         3.1.7\n",
            "pyOpenSSL                        23.3.0\n",
            "pyparsing                        3.1.1\n",
            "pyperclip                        1.8.2\n",
            "pyproj                           3.6.1\n",
            "pyproject_hooks                  1.0.0\n",
            "pyshp                            2.3.1\n",
            "PySocks                          1.7.1\n",
            "pytensor                         2.14.2\n",
            "pytest                           7.4.3\n",
            "python-apt                       0.0.0\n",
            "python-box                       7.1.1\n",
            "python-dateutil                  2.8.2\n",
            "python-louvain                   0.16\n",
            "python-slugify                   8.0.1\n",
            "python-utils                     3.8.1\n",
            "pytz                             2023.3.post1\n",
            "pyviz_comms                      3.0.0\n",
            "PyWavelets                       1.4.1\n",
            "PyYAML                           6.0.1\n",
            "pyzmq                            23.2.1\n",
            "qdldl                            0.1.7.post0\n",
            "qudida                           0.0.4\n",
            "ratelim                          0.1.6\n",
            "referencing                      0.31.0\n",
            "regex                            2023.6.3\n",
            "requests                         2.31.0\n",
            "requests-oauthlib                1.3.1\n",
            "requirements-parser              0.5.0\n",
            "rich                             13.7.0\n",
            "rpds-py                          0.13.0\n",
            "rpy2                             3.4.2\n",
            "rsa                              4.9\n",
            "safetensors                      0.4.0\n",
            "scikit-image                     0.19.3\n",
            "scikit-learn                     1.2.2\n",
            "scipy                            1.11.3\n",
            "scooby                           0.9.2\n",
            "scs                              3.2.4\n",
            "seaborn                          0.12.2\n",
            "SecretStorage                    3.3.1\n",
            "Send2Trash                       1.8.2\n",
            "setuptools                       67.7.2\n",
            "shapely                          2.0.2\n",
            "six                              1.16.0\n",
            "sklearn-pandas                   2.2.0\n",
            "smart-open                       6.4.0\n",
            "sniffio                          1.3.0\n",
            "snowballstemmer                  2.2.0\n",
            "sortedcontainers                 2.4.0\n",
            "soundfile                        0.12.1\n",
            "soupsieve                        2.5\n",
            "soxr                             0.3.7\n",
            "spacy                            3.6.1\n",
            "spacy-legacy                     3.0.12\n",
            "spacy-loggers                    1.0.5\n",
            "Sphinx                           5.0.2\n",
            "sphinxcontrib-applehelp          1.0.7\n",
            "sphinxcontrib-devhelp            1.0.5\n",
            "sphinxcontrib-htmlhelp           2.0.4\n",
            "sphinxcontrib-jsmath             1.0.1\n",
            "sphinxcontrib-qthelp             1.0.6\n",
            "sphinxcontrib-serializinghtml    1.1.9\n",
            "SQLAlchemy                       2.0.23\n",
            "sqlglot                          17.16.2\n",
            "sqlparse                         0.4.4\n",
            "srsly                            2.4.8\n",
            "stanio                           0.3.0\n",
            "statsmodels                      0.14.0\n",
            "sympy                            1.12\n",
            "tables                           3.8.0\n",
            "tabulate                         0.9.0\n",
            "tbb                              2021.11.0\n",
            "tblib                            3.0.0\n",
            "tenacity                         8.2.3\n",
            "tensorboard                      2.14.1\n",
            "tensorboard-data-server          0.7.2\n",
            "tensorflow                       2.14.0\n",
            "tensorflow-datasets              4.9.3\n",
            "tensorflow-estimator             2.14.0\n",
            "tensorflow-gcs-config            2.14.0\n",
            "tensorflow-hub                   0.15.0\n",
            "tensorflow-io-gcs-filesystem     0.34.0\n",
            "tensorflow-metadata              1.14.0\n",
            "tensorflow-probability           0.22.0\n",
            "tensorstore                      0.1.45\n",
            "termcolor                        2.3.0\n",
            "terminado                        0.18.0\n",
            "text-unidecode                   1.3\n",
            "textblob                         0.17.1\n",
            "tf-slim                          1.1.0\n",
            "thinc                            8.1.12\n",
            "threadpoolctl                    3.2.0\n",
            "tifffile                         2023.9.26\n",
            "tinycss2                         1.2.1\n",
            "tokenizers                       0.15.0\n",
            "toml                             0.10.2\n",
            "tomli                            2.0.1\n",
            "toolz                            0.12.0\n",
            "torch                            2.1.0+cu118\n",
            "torchaudio                       2.1.0+cu118\n",
            "torchdata                        0.7.0\n",
            "torchsummary                     1.5.1\n",
            "torchtext                        0.16.0\n",
            "torchvision                      0.16.0+cu118\n",
            "tornado                          6.3.2\n",
            "tqdm                             4.66.1\n",
            "traitlets                        5.7.1\n",
            "traittypes                       0.2.1\n",
            "transformers                     4.35.2\n",
            "triton                           2.1.0\n",
            "tweepy                           4.14.0\n",
            "typer                            0.9.0\n",
            "types-pytz                       2023.3.1.1\n",
            "types-setuptools                 68.2.0.1\n",
            "typing_extensions                4.5.0\n",
            "tzlocal                          5.2\n",
            "uc-micro-py                      1.0.2\n",
            "uritemplate                      4.1.1\n",
            "urllib3                          2.0.7\n",
            "vega-datasets                    0.9.0\n",
            "wadllib                          1.3.6\n",
            "wasabi                           1.1.2\n",
            "wcwidth                          0.2.10\n",
            "webcolors                        1.13\n",
            "webencodings                     0.5.1\n",
            "websocket-client                 1.6.4\n",
            "Werkzeug                         3.0.1\n",
            "wheel                            0.41.3\n",
            "widgetsnbextension               3.6.6\n",
            "wordcloud                        1.9.2\n",
            "wrapt                            1.14.1\n",
            "xarray                           2023.7.0\n",
            "xarray-einstats                  0.6.0\n",
            "xgboost                          2.0.2\n",
            "xlrd                             2.0.1\n",
            "xxhash                           3.4.1\n",
            "xyzservices                      2023.10.1\n",
            "yarl                             1.9.2\n",
            "yellowbrick                      1.5\n",
            "yfinance                         0.2.31\n",
            "zict                             3.0.0\n",
            "zipp                             3.17.0\n"
          ]
        }
      ],
      "source": [
        "!pip list"
      ]
    },
    {
      "cell_type": "markdown",
      "source": [
        "###### Here, we are listing the installed Python packages along with their versions."
      ],
      "metadata": {
        "id": "qka80F6kTUC7"
      }
    },
    {
      "cell_type": "markdown",
      "source": [
        "#1. Importing Necessary Libraries"
      ],
      "metadata": {
        "id": "AzBS1nT96rkG"
      }
    },
    {
      "cell_type": "code",
      "source": [
        "from keras import Sequential"
      ],
      "metadata": {
        "id": "-1W9rvm1IMeJ"
      },
      "execution_count": 2,
      "outputs": []
    },
    {
      "cell_type": "markdown",
      "source": [
        "###### Here, we are importing the Sequential class from the Keras library. Sequential is a linear stack of layers that can be used to build a neural network model layer by layer in a step-by-step fashion.\n",
        "--------------------------------------------------------------------------------\n"
      ],
      "metadata": {
        "id": "V8rpuzhlTuks"
      }
    },
    {
      "cell_type": "code",
      "source": [
        "from keras.layers import Dense, SimpleRNN"
      ],
      "metadata": {
        "id": "d1FJzLCvFrHN"
      },
      "execution_count": 3,
      "outputs": []
    },
    {
      "cell_type": "markdown",
      "source": [
        "###### Here, we are importing the required modules from the Keras library for building a sequential model with a Dense layer and a SimpleRNN layer.\n",
        "--------------------------------------------------------------------------------"
      ],
      "metadata": {
        "id": "YgMAhjvvT8MV"
      }
    },
    {
      "cell_type": "markdown",
      "source": [
        "#2. Building the Model"
      ],
      "metadata": {
        "id": "PtE1GC2b7FQE"
      }
    },
    {
      "cell_type": "code",
      "source": [
        "model = Sequential()"
      ],
      "metadata": {
        "id": "IPOwNAgvF1T5"
      },
      "execution_count": 4,
      "outputs": []
    },
    {
      "cell_type": "markdown",
      "source": [
        "######  Here, We are creating an instance of the Sequential model. This instance will be used to build the neural network model by adding layers to it in a sequential manner.\n",
        "--------------------------------------------------------------------------------"
      ],
      "metadata": {
        "id": "_klOXtInUIAH"
      }
    },
    {
      "cell_type": "code",
      "source": [
        "# Adding a SimpleRNN layer to the model with 4 units and input shape (4, 5)\n",
        "model.add(SimpleRNN(4, input_shape=(4, 5)))"
      ],
      "metadata": {
        "id": "Yd4cXkttGgR_"
      },
      "execution_count": 5,
      "outputs": []
    },
    {
      "cell_type": "markdown",
      "source": [
        "###### Here, we are adding a SimpleRNN layer to the model. This layer has 4 units (neurons) and expects input sequences with a shape of (4, 5), where 4 is the length of each sequence, and 5 is the number of features in each time step.\n",
        "--------------------------------------------------------------------------------"
      ],
      "metadata": {
        "id": "6S_N4XoWUR8c"
      }
    },
    {
      "cell_type": "code",
      "source": [
        "# Adding a Dense layer with 1 unit and sigmoid activation function to the model\n",
        "model.add(Dense(1,  activation = \"sigmoid\"))"
      ],
      "metadata": {
        "id": "MERJpqspIhCW"
      },
      "execution_count": 6,
      "outputs": []
    },
    {
      "cell_type": "markdown",
      "source": [
        "###### Here, a sequential model is created with a SimpleRNN layer having 3 units and an input shape of (4,5). This is followed by a Dense layer with 1 unit and a sigmoid activation function.\n",
        "--------------------------------------------------------------------------------"
      ],
      "metadata": {
        "id": "tfJB7d2VUZDg"
      }
    },
    {
      "cell_type": "markdown",
      "source": [
        "#3. Model Summary and Weights Inspection"
      ],
      "metadata": {
        "id": "NW36eJCs7T5e"
      }
    },
    {
      "cell_type": "code",
      "source": [
        "# Displaying a summary of the model's architecture\n",
        "model.summary()"
      ],
      "metadata": {
        "colab": {
          "base_uri": "https://localhost:8080/"
        },
        "id": "FlI9AnH5G6yh",
        "outputId": "b217f4ee-d43a-4446-aa51-e7e4f4adfebd"
      },
      "execution_count": 7,
      "outputs": [
        {
          "output_type": "stream",
          "name": "stdout",
          "text": [
            "Model: \"sequential\"\n",
            "_________________________________________________________________\n",
            " Layer (type)                Output Shape              Param #   \n",
            "=================================================================\n",
            " simple_rnn (SimpleRNN)      (None, 4)                 40        \n",
            "                                                                 \n",
            " dense (Dense)               (None, 1)                 5         \n",
            "                                                                 \n",
            "=================================================================\n",
            "Total params: 45 (180.00 Byte)\n",
            "Trainable params: 45 (180.00 Byte)\n",
            "Non-trainable params: 0 (0.00 Byte)\n",
            "_________________________________________________________________\n"
          ]
        }
      ]
    },
    {
      "cell_type": "markdown",
      "source": [
        "###### This prints a summary of the model architecture, showing the layers, their types, output shapes, and the total number of parameters.\n",
        "--------------------------------------------------------------------------------"
      ],
      "metadata": {
        "id": "XIcGDTH6Uocb"
      }
    },
    {
      "cell_type": "code",
      "source": [
        "model.get_weights()              # Get all the weights of the model"
      ],
      "metadata": {
        "colab": {
          "base_uri": "https://localhost:8080/"
        },
        "id": "UfeqonMqJRxC",
        "outputId": "56b0b7e9-af9f-4b79-8912-21b1e5c6f9f1"
      },
      "execution_count": 8,
      "outputs": [
        {
          "output_type": "execute_result",
          "data": {
            "text/plain": [
              "[array([[-0.80211747, -0.5295899 , -0.4287811 ,  0.53088486],\n",
              "        [-0.74338007, -0.07872897,  0.23710167,  0.2595111 ],\n",
              "        [-0.12252015, -0.3028171 ,  0.38511324,  0.3031329 ],\n",
              "        [-0.43216267, -0.01252592, -0.14569145, -0.06953382],\n",
              "        [-0.45232075,  0.14806366,  0.7925863 , -0.05446088]],\n",
              "       dtype=float32),\n",
              " array([[-0.31198943, -0.8710638 ,  0.29956916, -0.23274213],\n",
              "        [ 0.7886929 , -0.40024573, -0.4468674 , -0.13444877],\n",
              "        [ 0.02810698,  0.27637628,  0.08982555, -0.9564296 ],\n",
              "        [ 0.5289956 ,  0.06831864,  0.8381522 ,  0.1140049 ]],\n",
              "       dtype=float32),\n",
              " array([0., 0., 0., 0.], dtype=float32),\n",
              " array([[0.19890106],\n",
              "        [0.9962311 ],\n",
              "        [0.78303874],\n",
              "        [0.636397  ]], dtype=float32),\n",
              " array([0.], dtype=float32)]"
            ]
          },
          "metadata": {},
          "execution_count": 8
        }
      ]
    },
    {
      "cell_type": "markdown",
      "source": [
        "###### Here, we are using the get_weights() method to retrieve all the weights of the model. The returned value is a list containing the weight matrices and bias vectors for each layer in the order they were added to the model.\n",
        "--------------------------------------------------------------------------------"
      ],
      "metadata": {
        "id": "jJqO0x_wUyJW"
      }
    },
    {
      "cell_type": "code",
      "source": [
        "model.get_weights()[0]           # Get the weights of the first layer"
      ],
      "metadata": {
        "colab": {
          "base_uri": "https://localhost:8080/"
        },
        "id": "hkMUx3Q2JdaJ",
        "outputId": "cc174414-5290-462b-fdae-2e2337ea24f5"
      },
      "execution_count": 9,
      "outputs": [
        {
          "output_type": "execute_result",
          "data": {
            "text/plain": [
              "array([[-0.80211747, -0.5295899 , -0.4287811 ,  0.53088486],\n",
              "       [-0.74338007, -0.07872897,  0.23710167,  0.2595111 ],\n",
              "       [-0.12252015, -0.3028171 ,  0.38511324,  0.3031329 ],\n",
              "       [-0.43216267, -0.01252592, -0.14569145, -0.06953382],\n",
              "       [-0.45232075,  0.14806366,  0.7925863 , -0.05446088]],\n",
              "      dtype=float32)"
            ]
          },
          "metadata": {},
          "execution_count": 9
        }
      ]
    },
    {
      "cell_type": "markdown",
      "source": [
        "###### Here, we are accessing the first element of the list returned by get_weights(), which corresponds to the weights of the first layer in the model.\n",
        "--------------------------------------------------------------------------------"
      ],
      "metadata": {
        "id": "_fQyU9DMU7MU"
      }
    },
    {
      "cell_type": "code",
      "source": [
        "model.get_weights()[0].shape     # Get the shape of the weights of the first layer"
      ],
      "metadata": {
        "colab": {
          "base_uri": "https://localhost:8080/"
        },
        "id": "uxm90wu9JkHZ",
        "outputId": "a67a0984-248c-4302-9744-3ce90197379a"
      },
      "execution_count": 10,
      "outputs": [
        {
          "output_type": "execute_result",
          "data": {
            "text/plain": [
              "(5, 4)"
            ]
          },
          "metadata": {},
          "execution_count": 10
        }
      ]
    },
    {
      "cell_type": "markdown",
      "source": [
        "###### This retrieves the shape of the weight matrix of the first layer. The shape provides information about the dimensions of the weight matrix, indicating the number of neurons in the current layer and the previous layer.\n",
        "--------------------------------------------------------------------------------"
      ],
      "metadata": {
        "id": "6JygsOARVJg9"
      }
    },
    {
      "cell_type": "code",
      "source": [
        "model.get_weights()[1]           # Get the biases of the first layer"
      ],
      "metadata": {
        "colab": {
          "base_uri": "https://localhost:8080/"
        },
        "id": "QADHpiajJsFC",
        "outputId": "ddd6d0a7-4ab4-483d-9ed5-6ffd4e14936f"
      },
      "execution_count": 11,
      "outputs": [
        {
          "output_type": "execute_result",
          "data": {
            "text/plain": [
              "array([[-0.31198943, -0.8710638 ,  0.29956916, -0.23274213],\n",
              "       [ 0.7886929 , -0.40024573, -0.4468674 , -0.13444877],\n",
              "       [ 0.02810698,  0.27637628,  0.08982555, -0.9564296 ],\n",
              "       [ 0.5289956 ,  0.06831864,  0.8381522 ,  0.1140049 ]],\n",
              "      dtype=float32)"
            ]
          },
          "metadata": {},
          "execution_count": 11
        }
      ]
    },
    {
      "cell_type": "markdown",
      "source": [
        "###### This accesses the second element of the list returned by get_weights(), which corresponds to the biases of the first layer in the model.\n",
        "--------------------------------------------------------------------------------"
      ],
      "metadata": {
        "id": "a07mdTPzVO4q"
      }
    },
    {
      "cell_type": "code",
      "source": [
        "model.get_weights()[1].shape     # Get the shape of the biases of the first layer"
      ],
      "metadata": {
        "colab": {
          "base_uri": "https://localhost:8080/"
        },
        "id": "b7j0FiMMJx63",
        "outputId": "a3767aea-83d4-4292-c3ab-ad9dd049c7ee"
      },
      "execution_count": 12,
      "outputs": [
        {
          "output_type": "execute_result",
          "data": {
            "text/plain": [
              "(4, 4)"
            ]
          },
          "metadata": {},
          "execution_count": 12
        }
      ]
    },
    {
      "cell_type": "markdown",
      "source": [
        "###### This retrieves the shape of the bias vector of the first layer. The shape indicates the number of neurons in the current layer.\n",
        "--------------------------------------------------------------------------------"
      ],
      "metadata": {
        "id": "_pGck-GNW8XD"
      }
    },
    {
      "cell_type": "markdown",
      "source": [
        "#### These above commands are useful for inspecting the individual components of the model's weights, such as weight matrices and bias vectors, which can provide insights into how the model is representing and learning from the input data.\n",
        "--------------------------------------------------------------------------------\n",
        "--------------------------------------------------------------------------------"
      ],
      "metadata": {
        "id": "nveoL4EjJ21s"
      }
    },
    {
      "cell_type": "markdown",
      "source": [
        "# 4. Loading IMDB Dataset"
      ],
      "metadata": {
        "id": "-MtWP_IF7uOr"
      }
    },
    {
      "cell_type": "code",
      "source": [
        "from keras.datasets import imdb   # Importing the IMDB movie reviews dataset from Keras"
      ],
      "metadata": {
        "id": "YlYpGRy6Kee_"
      },
      "execution_count": 13,
      "outputs": []
    },
    {
      "cell_type": "markdown",
      "source": [
        "###### Here, we are using the imdb module from the keras.datasets package to import the IMDB movie reviews dataset. The IMDB dataset is a popular dataset for natural language processing (NLP) tasks, particularly sentiment analysis, where the goal is to classify movie reviews as positive or negative based on their text content.\n",
        "--------------------------------------------------------------------------------\n"
      ],
      "metadata": {
        "id": "-9p9tkg4bEaY"
      }
    },
    {
      "cell_type": "code",
      "source": [
        "(X_train, y_train), (X_test, y_test) = imdb.load_data()   # Loading the IMDB movie reviews dataset and splitting it into training and testing sets"
      ],
      "metadata": {
        "id": "Ybd7SCf0bmuY"
      },
      "execution_count": 14,
      "outputs": []
    },
    {
      "cell_type": "markdown",
      "source": [
        "###### Here, we are using the load_data() function from the imdb module to load the IMDB movie reviews dataset. The dataset is then split into training and testing sets, with X_train and X_test containing the movie reviews and y_train and y_test containing the corresponding sentiment labels (positive or negative). This is a common step in machine learning where you split your data into training and testing sets to train a model on one set and evaluate its performance on another set to assess generalization.\n",
        "--------------------------------------------------------------------------------\n"
      ],
      "metadata": {
        "id": "N2_YcyWfcFOo"
      }
    },
    {
      "cell_type": "markdown",
      "source": [
        "# 5. Inspecting Length of Reviews"
      ],
      "metadata": {
        "id": "CDSX8YmB75Q7"
      }
    },
    {
      "cell_type": "code",
      "source": [
        "len(X_train[0])   # Outputting the length of the first movie review in the training set"
      ],
      "metadata": {
        "colab": {
          "base_uri": "https://localhost:8080/"
        },
        "id": "bKGxwyEGLMGS",
        "outputId": "7eb0d320-3801-4bfa-d2ae-e7d58f245226"
      },
      "execution_count": 15,
      "outputs": [
        {
          "output_type": "execute_result",
          "data": {
            "text/plain": [
              "218"
            ]
          },
          "metadata": {},
          "execution_count": 15
        }
      ]
    },
    {
      "cell_type": "markdown",
      "source": [
        "###### Here, we are checking and outputting the length of the first movie review in the training set (X_train[0]). This can be useful to understand the number of words or tokens in the first review, providing insight into the structure and complexity of the data. It's a common exploratory step to get a sense of the input data before building and training a model.\n",
        "--------------------------------------------------------------------------------\n"
      ],
      "metadata": {
        "id": "RasdSHTjcYa5"
      }
    },
    {
      "cell_type": "code",
      "source": [
        "len(X_train[1])   # Outputting the length of the second movie review in the training set"
      ],
      "metadata": {
        "colab": {
          "base_uri": "https://localhost:8080/"
        },
        "id": "H3z9o75SLfGm",
        "outputId": "12ecad4d-1067-48e5-d439-6e0d5a58f901"
      },
      "execution_count": 16,
      "outputs": [
        {
          "output_type": "execute_result",
          "data": {
            "text/plain": [
              "189"
            ]
          },
          "metadata": {},
          "execution_count": 16
        }
      ]
    },
    {
      "cell_type": "markdown",
      "source": [
        "###### Here, we are checking and outputting the length of the second movie review in the training set (X_train[1]). Similar to the previous comment, this helps in understanding the variation in the lengths of different movie reviews in the dataset, which can be important for preprocessing and configuring the neural network model.\n",
        "--------------------------------------------------------------------------------\n"
      ],
      "metadata": {
        "id": "X9orjgMZcf-w"
      }
    },
    {
      "cell_type": "code",
      "source": [
        "len(X_train[2])   # Outputting the length of the third movie review in the training set"
      ],
      "metadata": {
        "colab": {
          "base_uri": "https://localhost:8080/"
        },
        "id": "92qwNKiALuuk",
        "outputId": "68a03347-8745-4299-a0f6-f6d66c983fbd"
      },
      "execution_count": 17,
      "outputs": [
        {
          "output_type": "execute_result",
          "data": {
            "text/plain": [
              "141"
            ]
          },
          "metadata": {},
          "execution_count": 17
        }
      ]
    },
    {
      "cell_type": "markdown",
      "source": [
        "###### In this case, you are checking and outputting the length of the third movie review in the training set (X_train[2]). This information is valuable for understanding the distribution of review lengths in the dataset and can be crucial for determining the appropriate padding or truncation strategy during data preprocessing.\n",
        "--------------------------------------------------------------------------------"
      ],
      "metadata": {
        "id": "RBE62n1HclIe"
      }
    },
    {
      "cell_type": "markdown",
      "source": [
        "# 6. Text Data Preprocessing:"
      ],
      "metadata": {
        "id": "HHCBAuoR8hGh"
      }
    },
    {
      "cell_type": "code",
      "source": [
        "mylist=[]                          # Creating an empty list called 'mylist'\n",
        "for review in X_train:             # Iterating through each movie review in the training set\n",
        "  mylist.append(len(review))       # Appending the length of each review to 'mylist'\n",
        "\n",
        "min(mylist)                        # Finding and outputting the minimum length among all the reviews"
      ],
      "metadata": {
        "colab": {
          "base_uri": "https://localhost:8080/"
        },
        "id": "8JessyEWb-h1",
        "outputId": "9270f56d-6f59-4a6d-f5f7-4c3c5b44cc4f"
      },
      "execution_count": 18,
      "outputs": [
        {
          "output_type": "execute_result",
          "data": {
            "text/plain": [
              "11"
            ]
          },
          "metadata": {},
          "execution_count": 18
        }
      ]
    },
    {
      "cell_type": "markdown",
      "source": [
        "###### In this code snippet, you are creating an empty list (mylist), then iterating through each movie review in the training set (X_train). For each review, you calculate its length and append that length to the mylist. Finally, you determine and output the minimum length among all the reviews using the min function. This can be useful for understanding the range of review lengths in the dataset and deciding on an appropriate padding or truncation strategy.\n",
        "--------------------------------------------------------------------------------"
      ],
      "metadata": {
        "id": "A-EP0JmactoK"
      }
    },
    {
      "cell_type": "code",
      "source": [
        "X_train.shape   # Outputting the shape of the training set X_train"
      ],
      "metadata": {
        "colab": {
          "base_uri": "https://localhost:8080/"
        },
        "id": "ifjvQdz9Mfdo",
        "outputId": "10a130c7-8235-4979-c9dd-58a1cde17858"
      },
      "execution_count": 19,
      "outputs": [
        {
          "output_type": "execute_result",
          "data": {
            "text/plain": [
              "(25000,)"
            ]
          },
          "metadata": {},
          "execution_count": 19
        }
      ]
    },
    {
      "cell_type": "markdown",
      "source": [
        "###### This code is displaying the shape of the training set (X_train). The shape typically represents the number of samples and the length of each sample in the dataset. The exact output will depend on the structure of your data, but it will give you insights into the dimensions of your training set. For example, if the output is (n_samples, max_length), it indicates the number of movie reviews in the training set (n_samples) and the maximum length of a review (max_length).\n",
        "--------------------------------------------------------------------------------"
      ],
      "metadata": {
        "id": "f7IRkbRBc2gT"
      }
    },
    {
      "cell_type": "code",
      "source": [
        "X_test.shape   # Outputting the shape of the test set X_test"
      ],
      "metadata": {
        "colab": {
          "base_uri": "https://localhost:8080/"
        },
        "id": "aQghPf2-MjpG",
        "outputId": "7f60ad3b-419b-4b1c-f49e-99246bd2c28b"
      },
      "execution_count": 20,
      "outputs": [
        {
          "output_type": "execute_result",
          "data": {
            "text/plain": [
              "(25000,)"
            ]
          },
          "metadata": {},
          "execution_count": 20
        }
      ]
    },
    {
      "cell_type": "markdown",
      "source": [
        "###### This code is displaying the shape of the test set (X_test). Similar to the previous comment about X_train.shape, this will provide information about the number of samples and the length of each sample in the test set. Understanding the shape of the test set is crucial for evaluating the performance of a machine learning model on unseen data.\n",
        "--------------------------------------------------------------------------------"
      ],
      "metadata": {
        "id": "Gy1Oj8Gxc9ew"
      }
    },
    {
      "cell_type": "markdown",
      "source": [
        "# 7. Text Tokenization and Padding:"
      ],
      "metadata": {
        "id": "duG2WC6h9G0U"
      }
    },
    {
      "cell_type": "code",
      "source": [
        "import numpy as np   # Importing the NumPy library and assigning it the alias 'np' for convenience"
      ],
      "metadata": {
        "id": "a_WbKcv1NC-P"
      },
      "execution_count": 21,
      "outputs": []
    },
    {
      "cell_type": "code",
      "source": [
        "sent = [\n",
        "      \"india won worldcup\",\n",
        "      \"rohit played very well\",\n",
        "      \"above all is my imagination\",\n",
        "      \"bharat mata ki jay\",\n",
        "      \"definatly we goona win next worldcup\"\n",
        "]   # Creating a list 'sent' containing five string elements, each representing a sentence or statement"
      ],
      "metadata": {
        "id": "m4Pq9SGeNHrJ"
      },
      "execution_count": 22,
      "outputs": []
    },
    {
      "cell_type": "markdown",
      "source": [
        "###### The import numpy as np statement is importing the NumPy library and giving it the alias 'np'. NumPy is a powerful library in Python for numerical and mathematical operations.\n",
        "--------------------------------------------------------------------------------"
      ],
      "metadata": {
        "id": "tGUDdKvpdHY6"
      }
    },
    {
      "cell_type": "markdown",
      "source": [
        "#### The sent list contains five string elements, each representing a sentence or statement.\n",
        "--------------------------------------------------------------------------------\n",
        "--------------------------------------------------------------------------------"
      ],
      "metadata": {
        "id": "mgb4g_bldQPB"
      }
    },
    {
      "cell_type": "code",
      "source": [
        "sent    # Displaying the 'sent' list containing five string elements, each representing a sentence or statement\n"
      ],
      "metadata": {
        "colab": {
          "base_uri": "https://localhost:8080/"
        },
        "id": "H0C4yL0tNZwe",
        "outputId": "fb7929d0-20c2-41a9-80eb-d1c84e3f4405"
      },
      "execution_count": 23,
      "outputs": [
        {
          "output_type": "execute_result",
          "data": {
            "text/plain": [
              "['india won worldcup',\n",
              " 'rohit played very well',\n",
              " 'above all is my imagination',\n",
              " 'bharat mata ki jay',\n",
              " 'definatly we goona win next worldcup']"
            ]
          },
          "metadata": {},
          "execution_count": 23
        }
      ]
    },
    {
      "cell_type": "code",
      "source": [
        "# Importing the Tokenizer class from keras.preprocessing.text module for text tokenization\n",
        "from keras.preprocessing.text import Tokenizer"
      ],
      "metadata": {
        "id": "ZVyk0W8tORDO"
      },
      "execution_count": 24,
      "outputs": []
    },
    {
      "cell_type": "code",
      "source": [
        "tokenizer = Tokenizer()  # Creating an instance of the Tokenizer class"
      ],
      "metadata": {
        "id": "P5pfKq4POiXH"
      },
      "execution_count": 25,
      "outputs": []
    },
    {
      "cell_type": "code",
      "source": [
        "tokenizer.fit_on_texts(sent)  # Updates internal vocabulary based on the given text data"
      ],
      "metadata": {
        "id": "BeALee14OqaD"
      },
      "execution_count": 26,
      "outputs": []
    },
    {
      "cell_type": "code",
      "source": [
        "tokenizer.word_index  # Returns a dictionary where keys are words and values are their corresponding integer indices"
      ],
      "metadata": {
        "colab": {
          "base_uri": "https://localhost:8080/"
        },
        "id": "yg0zXA8aOr3Y",
        "outputId": "79c9cd98-ac1f-4476-a60b-64db5a7c155e"
      },
      "execution_count": 27,
      "outputs": [
        {
          "output_type": "execute_result",
          "data": {
            "text/plain": [
              "{'worldcup': 1,\n",
              " 'india': 2,\n",
              " 'won': 3,\n",
              " 'rohit': 4,\n",
              " 'played': 5,\n",
              " 'very': 6,\n",
              " 'well': 7,\n",
              " 'above': 8,\n",
              " 'all': 9,\n",
              " 'is': 10,\n",
              " 'my': 11,\n",
              " 'imagination': 12,\n",
              " 'bharat': 13,\n",
              " 'mata': 14,\n",
              " 'ki': 15,\n",
              " 'jay': 16,\n",
              " 'definatly': 17,\n",
              " 'we': 18,\n",
              " 'goona': 19,\n",
              " 'win': 20,\n",
              " 'next': 21}"
            ]
          },
          "metadata": {},
          "execution_count": 27
        }
      ]
    },
    {
      "cell_type": "code",
      "source": [
        "tokenizer.word_counts  # Returns a dictionary where keys are words and values are their counts in the corpus"
      ],
      "metadata": {
        "colab": {
          "base_uri": "https://localhost:8080/"
        },
        "id": "getA6dsgOxM7",
        "outputId": "99f5ff50-7988-471e-fc8d-82501910e769"
      },
      "execution_count": 28,
      "outputs": [
        {
          "output_type": "execute_result",
          "data": {
            "text/plain": [
              "OrderedDict([('india', 1),\n",
              "             ('won', 1),\n",
              "             ('worldcup', 2),\n",
              "             ('rohit', 1),\n",
              "             ('played', 1),\n",
              "             ('very', 1),\n",
              "             ('well', 1),\n",
              "             ('above', 1),\n",
              "             ('all', 1),\n",
              "             ('is', 1),\n",
              "             ('my', 1),\n",
              "             ('imagination', 1),\n",
              "             ('bharat', 1),\n",
              "             ('mata', 1),\n",
              "             ('ki', 1),\n",
              "             ('jay', 1),\n",
              "             ('definatly', 1),\n",
              "             ('we', 1),\n",
              "             ('goona', 1),\n",
              "             ('win', 1),\n",
              "             ('next', 1)])"
            ]
          },
          "metadata": {},
          "execution_count": 28
        }
      ]
    },
    {
      "cell_type": "code",
      "source": [
        "tokenizer.document_count  # Number of documents (sentences in this case) that were used to fit the Tokenizer"
      ],
      "metadata": {
        "colab": {
          "base_uri": "https://localhost:8080/"
        },
        "id": "jAB7I4ATO2-v",
        "outputId": "3747feac-05cd-4def-8d05-90182411def5"
      },
      "execution_count": 29,
      "outputs": [
        {
          "output_type": "execute_result",
          "data": {
            "text/plain": [
              "5"
            ]
          },
          "metadata": {},
          "execution_count": 29
        }
      ]
    },
    {
      "cell_type": "code",
      "source": [
        "tokenizer.texts_to_sequences(sent)  # Converts the input sentences to sequences of integers based on the tokenizer's word index\n",
        "encoding = tokenizer.texts_to_sequences(sent)"
      ],
      "metadata": {
        "id": "npHF_xIPO8oU"
      },
      "execution_count": 30,
      "outputs": []
    },
    {
      "cell_type": "code",
      "source": [
        "encoding  # The resulting integer sequences obtained after applying text-to-sequence encoding on the input sentences"
      ],
      "metadata": {
        "colab": {
          "base_uri": "https://localhost:8080/"
        },
        "id": "rZoH8IkqPCJ-",
        "outputId": "dbb4c0b8-b1b9-4e66-edef-25063fe83f0a"
      },
      "execution_count": 31,
      "outputs": [
        {
          "output_type": "execute_result",
          "data": {
            "text/plain": [
              "[[2, 3, 1],\n",
              " [4, 5, 6, 7],\n",
              " [8, 9, 10, 11, 12],\n",
              " [13, 14, 15, 16],\n",
              " [17, 18, 19, 20, 21, 1]]"
            ]
          },
          "metadata": {},
          "execution_count": 31
        }
      ]
    },
    {
      "cell_type": "code",
      "source": [
        "from keras.utils import pad_sequences  # Importing the pad_sequences function from Keras, which is commonly used for sequence padding"
      ],
      "metadata": {
        "id": "Dp2q1upwQGBK"
      },
      "execution_count": 32,
      "outputs": []
    },
    {
      "cell_type": "code",
      "source": [
        "pad_sequences(encoding, padding=\"post\")  # Padding sequences with zeros at the end (post padding)"
      ],
      "metadata": {
        "colab": {
          "base_uri": "https://localhost:8080/"
        },
        "id": "rqlHaG9uQL06",
        "outputId": "2caefc8d-2ffa-4a47-ae1d-d40691026746"
      },
      "execution_count": 33,
      "outputs": [
        {
          "output_type": "execute_result",
          "data": {
            "text/plain": [
              "array([[ 2,  3,  1,  0,  0,  0],\n",
              "       [ 4,  5,  6,  7,  0,  0],\n",
              "       [ 8,  9, 10, 11, 12,  0],\n",
              "       [13, 14, 15, 16,  0,  0],\n",
              "       [17, 18, 19, 20, 21,  1]], dtype=int32)"
            ]
          },
          "metadata": {},
          "execution_count": 33
        }
      ]
    },
    {
      "cell_type": "markdown",
      "source": [
        "8. Preparing Text Data for Model:"
      ],
      "metadata": {
        "id": "m47u60OC-uvT"
      }
    },
    {
      "cell_type": "code",
      "source": [
        "X_train  # Displaying the training data"
      ],
      "metadata": {
        "colab": {
          "base_uri": "https://localhost:8080/"
        },
        "id": "uPcOS3pjQYe3",
        "outputId": "f19597f4-e48e-4817-9e27-afce81a600d2"
      },
      "execution_count": 34,
      "outputs": [
        {
          "output_type": "execute_result",
          "data": {
            "text/plain": [
              "array([list([1, 14, 22, 16, 43, 530, 973, 1622, 1385, 65, 458, 4468, 66, 3941, 4, 173, 36, 256, 5, 25, 100, 43, 838, 112, 50, 670, 22665, 9, 35, 480, 284, 5, 150, 4, 172, 112, 167, 21631, 336, 385, 39, 4, 172, 4536, 1111, 17, 546, 38, 13, 447, 4, 192, 50, 16, 6, 147, 2025, 19, 14, 22, 4, 1920, 4613, 469, 4, 22, 71, 87, 12, 16, 43, 530, 38, 76, 15, 13, 1247, 4, 22, 17, 515, 17, 12, 16, 626, 18, 19193, 5, 62, 386, 12, 8, 316, 8, 106, 5, 4, 2223, 5244, 16, 480, 66, 3785, 33, 4, 130, 12, 16, 38, 619, 5, 25, 124, 51, 36, 135, 48, 25, 1415, 33, 6, 22, 12, 215, 28, 77, 52, 5, 14, 407, 16, 82, 10311, 8, 4, 107, 117, 5952, 15, 256, 4, 31050, 7, 3766, 5, 723, 36, 71, 43, 530, 476, 26, 400, 317, 46, 7, 4, 12118, 1029, 13, 104, 88, 4, 381, 15, 297, 98, 32, 2071, 56, 26, 141, 6, 194, 7486, 18, 4, 226, 22, 21, 134, 476, 26, 480, 5, 144, 30, 5535, 18, 51, 36, 28, 224, 92, 25, 104, 4, 226, 65, 16, 38, 1334, 88, 12, 16, 283, 5, 16, 4472, 113, 103, 32, 15, 16, 5345, 19, 178, 32]),\n",
              "       list([1, 194, 1153, 194, 8255, 78, 228, 5, 6, 1463, 4369, 5012, 134, 26, 4, 715, 8, 118, 1634, 14, 394, 20, 13, 119, 954, 189, 102, 5, 207, 110, 3103, 21, 14, 69, 188, 8, 30, 23, 7, 4, 249, 126, 93, 4, 114, 9, 2300, 1523, 5, 647, 4, 116, 9, 35, 8163, 4, 229, 9, 340, 1322, 4, 118, 9, 4, 130, 4901, 19, 4, 1002, 5, 89, 29, 952, 46, 37, 4, 455, 9, 45, 43, 38, 1543, 1905, 398, 4, 1649, 26, 6853, 5, 163, 11, 3215, 10156, 4, 1153, 9, 194, 775, 7, 8255, 11596, 349, 2637, 148, 605, 15358, 8003, 15, 123, 125, 68, 23141, 6853, 15, 349, 165, 4362, 98, 5, 4, 228, 9, 43, 36893, 1157, 15, 299, 120, 5, 120, 174, 11, 220, 175, 136, 50, 9, 4373, 228, 8255, 5, 25249, 656, 245, 2350, 5, 4, 9837, 131, 152, 491, 18, 46151, 32, 7464, 1212, 14, 9, 6, 371, 78, 22, 625, 64, 1382, 9, 8, 168, 145, 23, 4, 1690, 15, 16, 4, 1355, 5, 28, 6, 52, 154, 462, 33, 89, 78, 285, 16, 145, 95]),\n",
              "       list([1, 14, 47, 8, 30, 31, 7, 4, 249, 108, 7, 4, 5974, 54, 61, 369, 13, 71, 149, 14, 22, 112, 4, 2401, 311, 12, 16, 3711, 33, 75, 43, 1829, 296, 4, 86, 320, 35, 534, 19, 263, 4821, 1301, 4, 1873, 33, 89, 78, 12, 66, 16, 4, 360, 7, 4, 58, 316, 334, 11, 4, 1716, 43, 645, 662, 8, 257, 85, 1200, 42, 1228, 2578, 83, 68, 3912, 15, 36, 165, 1539, 278, 36, 69, 44076, 780, 8, 106, 14, 6905, 1338, 18, 6, 22, 12, 215, 28, 610, 40, 6, 87, 326, 23, 2300, 21, 23, 22, 12, 272, 40, 57, 31, 11, 4, 22, 47, 6, 2307, 51, 9, 170, 23, 595, 116, 595, 1352, 13, 191, 79, 638, 89, 51428, 14, 9, 8, 106, 607, 624, 35, 534, 6, 227, 7, 129, 113]),\n",
              "       ...,\n",
              "       list([1, 11, 6, 230, 245, 6401, 9, 6, 1225, 446, 86527, 45, 2174, 84, 8322, 4007, 21, 4, 912, 84, 14532, 325, 725, 134, 15271, 1715, 84, 5, 36, 28, 57, 1099, 21, 8, 140, 8, 703, 5, 11656, 84, 56, 18, 1644, 14, 9, 31, 7, 4, 9406, 1209, 2295, 26094, 1008, 18, 6, 20, 207, 110, 563, 12, 8, 2901, 17793, 8, 97, 6, 20, 53, 4767, 74, 4, 460, 364, 1273, 29, 270, 11, 960, 108, 45, 40, 29, 2961, 395, 11, 6, 4065, 500, 7, 14492, 89, 364, 70, 29, 140, 4, 64, 4780, 11, 4, 2678, 26, 178, 4, 529, 443, 17793, 5, 27, 710, 117, 74936, 8123, 165, 47, 84, 37, 131, 818, 14, 595, 10, 10, 61, 1242, 1209, 10, 10, 288, 2260, 1702, 34, 2901, 17793, 4, 65, 496, 4, 231, 7, 790, 5, 6, 320, 234, 2766, 234, 1119, 1574, 7, 496, 4, 139, 929, 2901, 17793, 7750, 5, 4241, 18, 4, 8497, 13164, 250, 11, 1818, 7561, 4, 4217, 5408, 747, 1115, 372, 1890, 1006, 541, 9303, 7, 4, 59, 11027, 4, 3586, 22459]),\n",
              "       list([1, 1446, 7079, 69, 72, 3305, 13, 610, 930, 8, 12, 582, 23, 5, 16, 484, 685, 54, 349, 11, 4120, 2959, 45, 58, 1466, 13, 197, 12, 16, 43, 23, 21469, 5, 62, 30, 145, 402, 11, 4131, 51, 575, 32, 61, 369, 71, 66, 770, 12, 1054, 75, 100, 2198, 8, 4, 105, 37, 69, 147, 712, 75, 3543, 44, 257, 390, 5, 69, 263, 514, 105, 50, 286, 1814, 23, 4, 123, 13, 161, 40, 5, 421, 4, 116, 16, 897, 13, 40691, 40, 319, 5872, 112, 6700, 11, 4803, 121, 25, 70, 3468, 4, 719, 3798, 13, 18, 31, 62, 40, 8, 7200, 4, 29455, 7, 14, 123, 5, 942, 25, 8, 721, 12, 145, 5, 202, 12, 160, 580, 202, 12, 6, 52, 58, 11418, 92, 401, 728, 12, 39, 14, 251, 8, 15, 251, 5, 21213, 12, 38, 84, 80, 124, 12, 9, 23]),\n",
              "       list([1, 17, 6, 194, 337, 7, 4, 204, 22, 45, 254, 8, 106, 14, 123, 4, 12815, 270, 14437, 5, 16923, 12255, 732, 2098, 101, 405, 39, 14, 1034, 4, 1310, 9, 115, 50, 305, 12, 47, 4, 168, 5, 235, 7, 38, 111, 699, 102, 7, 4, 4039, 9245, 9, 24, 6, 78, 1099, 17, 2345, 16553, 21, 27, 9685, 6139, 5, 29043, 1603, 92, 1183, 4, 1310, 7, 4, 204, 42, 97, 90, 35, 221, 109, 29, 127, 27, 118, 8, 97, 12, 157, 21, 6789, 85010, 9, 6, 66, 78, 1099, 4, 631, 1191, 5, 2642, 272, 191, 1070, 6, 7585, 8, 2197, 70907, 10755, 544, 5, 383, 1271, 848, 1468, 12183, 497, 16876, 8, 1597, 8778, 19280, 21, 60, 27, 239, 9, 43, 8368, 209, 405, 10, 10, 12, 764, 40, 4, 248, 20, 12, 16, 5, 174, 1791, 72, 7, 51, 6, 1739, 22, 4, 204, 131, 9])],\n",
              "      dtype=object)"
            ]
          },
          "metadata": {},
          "execution_count": 34
        }
      ]
    },
    {
      "cell_type": "code",
      "source": [
        "y_train  # Displaying the training labels"
      ],
      "metadata": {
        "colab": {
          "base_uri": "https://localhost:8080/"
        },
        "id": "e2NoGeAPQe4T",
        "outputId": "cfb450e8-ce0c-4336-bdae-e7594ef3d93b"
      },
      "execution_count": 35,
      "outputs": [
        {
          "output_type": "execute_result",
          "data": {
            "text/plain": [
              "array([1, 0, 0, ..., 0, 1, 0])"
            ]
          },
          "metadata": {},
          "execution_count": 35
        }
      ]
    },
    {
      "cell_type": "code",
      "source": [
        "X_train = pad_sequences(X_train, padding=\"post\", maxlen=50)  # Padding the training sequences to a maximum length of 50"
      ],
      "metadata": {
        "id": "zwWa7_S8Q28n"
      },
      "execution_count": 36,
      "outputs": []
    },
    {
      "cell_type": "code",
      "source": [
        "X_test = pad_sequences(X_test, padding=\"post\", maxlen=50)  # Padding the test sequences to a maximum length of 50"
      ],
      "metadata": {
        "id": "rUmFucZK-y0Y"
      },
      "execution_count": 37,
      "outputs": []
    },
    {
      "cell_type": "markdown",
      "source": [
        "# 9. Building and Compiling a New Model:"
      ],
      "metadata": {
        "id": "PODbeeGz-3rs"
      }
    },
    {
      "cell_type": "code",
      "source": [
        "model = Sequential()  # Creating a sequential model in Keras"
      ],
      "metadata": {
        "id": "RjMlLYtZRB57"
      },
      "execution_count": 38,
      "outputs": []
    },
    {
      "cell_type": "code",
      "source": [
        "model.add(SimpleRNN(32,  input_shape = (50, 1)))  # Adding a SimpleRNN layer with 32 units and input shape (50, 1)"
      ],
      "metadata": {
        "id": "_VKTnYcaRDEE"
      },
      "execution_count": 39,
      "outputs": []
    },
    {
      "cell_type": "code",
      "source": [
        "model.add(Dense(1,  activation = \"sigmoid\"))  # Adding a Dense layer with 1 unit and sigmoid activation function"
      ],
      "metadata": {
        "id": "g1h_Qj8ZRQqS"
      },
      "execution_count": 40,
      "outputs": []
    },
    {
      "cell_type": "code",
      "source": [
        "model.summary()  # Displaying the summary of the model architecture"
      ],
      "metadata": {
        "colab": {
          "base_uri": "https://localhost:8080/"
        },
        "id": "3_NMssO0RZA1",
        "outputId": "ffae071f-219d-458a-9767-25d089a547a3"
      },
      "execution_count": 41,
      "outputs": [
        {
          "output_type": "stream",
          "name": "stdout",
          "text": [
            "Model: \"sequential_1\"\n",
            "_________________________________________________________________\n",
            " Layer (type)                Output Shape              Param #   \n",
            "=================================================================\n",
            " simple_rnn_1 (SimpleRNN)    (None, 32)                1088      \n",
            "                                                                 \n",
            " dense_1 (Dense)             (None, 1)                 33        \n",
            "                                                                 \n",
            "=================================================================\n",
            "Total params: 1121 (4.38 KB)\n",
            "Trainable params: 1121 (4.38 KB)\n",
            "Non-trainable params: 0 (0.00 Byte)\n",
            "_________________________________________________________________\n"
          ]
        }
      ]
    },
    {
      "cell_type": "code",
      "source": [
        "model.compile(\n",
        "    loss = 'binary_crossentropy',   # Setting the loss function to binary crossentropy\n",
        "    optimizer = 'adam',             # Using the Adam optimizer\n",
        "    metrics = ['accuracy']          # Monitoring accuracy as a metric\n",
        ")"
      ],
      "metadata": {
        "id": "MHm80g9wRhij"
      },
      "execution_count": 42,
      "outputs": []
    },
    {
      "cell_type": "markdown",
      "source": [
        "# 10. Model Training:"
      ],
      "metadata": {
        "id": "XgvFnQtL-76P"
      }
    },
    {
      "cell_type": "code",
      "source": [
        "model.fit(\n",
        "    X_train,                             # Training data\n",
        "    y_train,                             # Training labels\n",
        "    validation_data = (X_test, y_test),  # Validation data for monitoring performance during training\n",
        "    epochs = 5                           # Number of epochs for training\n",
        ")"
      ],
      "metadata": {
        "colab": {
          "base_uri": "https://localhost:8080/"
        },
        "id": "urllURT5-_HQ",
        "outputId": "101695a0-cd81-4128-c59b-ee0c0d6cf952"
      },
      "execution_count": 43,
      "outputs": [
        {
          "output_type": "stream",
          "name": "stdout",
          "text": [
            "Epoch 1/5\n",
            "782/782 [==============================] - 21s 22ms/step - loss: 0.6937 - accuracy: 0.5086 - val_loss: 0.7010 - val_accuracy: 0.5014\n",
            "Epoch 2/5\n",
            "782/782 [==============================] - 13s 16ms/step - loss: 0.6934 - accuracy: 0.5014 - val_loss: 0.6938 - val_accuracy: 0.5034\n",
            "Epoch 3/5\n",
            "782/782 [==============================] - 13s 16ms/step - loss: 0.6930 - accuracy: 0.5037 - val_loss: 0.6939 - val_accuracy: 0.5036\n",
            "Epoch 4/5\n",
            "782/782 [==============================] - 14s 18ms/step - loss: 0.6931 - accuracy: 0.5033 - val_loss: 0.6967 - val_accuracy: 0.5022\n",
            "Epoch 5/5\n",
            "782/782 [==============================] - 14s 18ms/step - loss: 0.6931 - accuracy: 0.5080 - val_loss: 0.6956 - val_accuracy: 0.5046\n"
          ]
        },
        {
          "output_type": "execute_result",
          "data": {
            "text/plain": [
              "<keras.src.callbacks.History at 0x78c40d98aa70>"
            ]
          },
          "metadata": {},
          "execution_count": 43
        }
      ]
    },
    {
      "cell_type": "markdown",
      "source": [
        "###### The model is trained on the preprocessed text data for 5 epochs, using the training and validation sets.\n",
        "--------------------------------------------------------------------------------"
      ],
      "metadata": {
        "id": "2VgnvRYbdx9w"
      }
    },
    {
      "cell_type": "code",
      "source": [
        "model.predict(X_test)   # Predicting labels for the test data using the trained model\n"
      ],
      "metadata": {
        "colab": {
          "base_uri": "https://localhost:8080/"
        },
        "id": "r4DwG5VRRx3R",
        "outputId": "89c559db-138a-4b39-fa1c-7da3a036b1c5"
      },
      "execution_count": 44,
      "outputs": [
        {
          "output_type": "stream",
          "name": "stdout",
          "text": [
            "782/782 [==============================] - 4s 5ms/step\n"
          ]
        },
        {
          "output_type": "execute_result",
          "data": {
            "text/plain": [
              "array([[0.5360094],\n",
              "       [0.5360094],\n",
              "       [0.5360094],\n",
              "       ...,\n",
              "       [0.5360094],\n",
              "       [0.5360094],\n",
              "       [0.5360094]], dtype=float32)"
            ]
          },
          "metadata": {},
          "execution_count": 44
        }
      ]
    },
    {
      "cell_type": "code",
      "source": [
        "loss, accuracy = model.evaluate(X_test, y_test)   # Evaluating the model on the test data and getting the loss and accuracy\n"
      ],
      "metadata": {
        "colab": {
          "base_uri": "https://localhost:8080/"
        },
        "id": "E0HRRjKQR4PO",
        "outputId": "2c87674e-bbe9-4036-ad50-18ba602c7003"
      },
      "execution_count": 45,
      "outputs": [
        {
          "output_type": "stream",
          "name": "stdout",
          "text": [
            "782/782 [==============================] - 5s 6ms/step - loss: 0.6956 - accuracy: 0.5046\n"
          ]
        }
      ]
    },
    {
      "cell_type": "code",
      "source": [
        "loss   # Displaying the value of the loss\n"
      ],
      "metadata": {
        "colab": {
          "base_uri": "https://localhost:8080/"
        },
        "id": "Pk7VNqzWR-dc",
        "outputId": "9d4b2e88-7469-4201-a050-575d87e29579"
      },
      "execution_count": 46,
      "outputs": [
        {
          "output_type": "execute_result",
          "data": {
            "text/plain": [
              "0.6956228017807007"
            ]
          },
          "metadata": {},
          "execution_count": 46
        }
      ]
    }
  ]
}